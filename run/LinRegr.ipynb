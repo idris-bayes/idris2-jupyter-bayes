{
 "cells": [
  {
   "cell_type": "markdown",
   "id": "4497eb8f",
   "metadata": {},
   "source": [
    "Import necessary modules:"
   ]
  },
  {
   "cell_type": "code",
   "execution_count": 1,
   "id": "ce510aab",
   "metadata": {
    "scrolled": true
   },
   "outputs": [
    {
     "name": "stdout",
     "output_type": "stream",
     "text": [
      "Imported module Language.JSON\r\n",
      "Imported module Idris2JupyterVega.VegaLite\r\n",
      "Imported module VegaPlot\r\n",
      "Imported module LinRegr\r\n"
     ]
    }
   ],
   "source": [
    ":module Language.JSON\n",
    ":module Idris2JupyterVega.VegaLite\n",
    ":module VegaPlot\n",
    ":module LinRegr"
   ]
  },
  {
   "cell_type": "markdown",
   "id": "06ee3c36",
   "metadata": {},
   "source": [
    "Scatter graph for simulating linear regression for 10 points  (works):"
   ]
  },
  {
   "cell_type": "code",
   "execution_count": 2,
   "id": "790e2d5a",
   "metadata": {},
   "outputs": [
    {
     "data": {
      "application/javascript": [
       "const spec = {\"$schema\": \"https://vega.github.io/schema/vega-lite/v5.json\", \"data\": {\"values\": [{\"x\": 0.0, \"y\": 0.5075416251071451}, {\"x\": 1.0, \"y\": 2.4627678874762315}, {\"x\": 2.0, \"y\": 6.748678467562959}, {\"x\": 3.0, \"y\": 10.05713738155641}, {\"x\": 4.0, \"y\": 12.937902548736147}, {\"x\": 5.0, \"y\": 14.855376401658772}, {\"x\": 6.0, \"y\": 17.362094849293996}, {\"x\": 7.0, \"y\": 21.979612520165148}, {\"x\": 8.0, \"y\": 24.915912693953484}, {\"x\": 9.0, \"y\": 25.447476418623328}, {\"x\": 10.0, \"y\": 31.331322219795506}]}, \"description\": \"A scatterplot\", \"encoding\": {\"x\": {\"field\": \"x\", \"type\": \"quantitative\"}, \"y\": {\"field\": \"y\", \"type\": \"quantitative\"}}, \"mark\": \"point\"};\n",
       "const opt = {};\n",
       "const type = \"vega-lite\";\n",
       "const id = \"bdf124f7-ce4e-4c2b-ab61-04c2dae02b79\";\n",
       "\n",
       "const output_area = this;\n",
       "\n",
       "require([\"nbextensions/jupyter-vega/index\"], function(vega) {\n",
       "  const target = document.createElement(\"div\");\n",
       "  target.id = id;\n",
       "  target.className = \"vega-embed\";\n",
       "\n",
       "  const style = document.createElement(\"style\");\n",
       "  style.textContent = [\n",
       "    \".vega-embed .error p {\",\n",
       "    \"  color: firebrick;\",\n",
       "    \"  font-size: 14px;\",\n",
       "    \"}\",\n",
       "  ].join(\"\\\\n\");\n",
       "\n",
       "  // element is a jQuery wrapped DOM element inside the output area\n",
       "  // see http://ipython.readthedocs.io/en/stable/api/generated/\\\n",
       "  // IPython.display.html#IPython.display.Javascript.__init__\n",
       "  element[0].appendChild(target);\n",
       "  element[0].appendChild(style);\n",
       "\n",
       "  vega.render(\"#\" + id, spec, type, opt, output_area);\n",
       "}, function (err) {\n",
       "  if (err.requireType !== \"scripterror\") {\n",
       "    throw(err);\n",
       "  }\n",
       "});\n"
      ]
     },
     "metadata": {
      "jupyter-vega": "#bdf124f7-ce4e-4c2b-ab61-04c2dae02b79"
     },
     "output_type": "display_data"
    },
    {
     "data": {
      "image/png": "[encoded data removed]"
     },
     "metadata": {
      "jupyter-vega": "#bdf124f7-ce4e-4c2b-ab61-04c2dae02b79"
     },
     "output_type": "display_data"
    }
   ],
   "source": [
    ":let xys : IO (List (Double, Double))\n",
    ":let xys = simLinRegr 10\n",
    "\n",
    ":exec xys >>= (display . scatterGraph)"
   ]
  },
  {
   "cell_type": "markdown",
   "id": "ae63fd1e",
   "metadata": {},
   "source": [
    "Scatter graph for simulating linear regression for 40 points (doesn't work):"
   ]
  },
  {
   "cell_type": "code",
   "execution_count": 3,
   "id": "d19bc26b",
   "metadata": {},
   "outputs": [
    {
     "name": "stdout",
     "output_type": "stream",
     "text": []
    }
   ],
   "source": [
    ":let xys' : IO (List (Double, Double))\n",
    ":let xys' = simLinRegr 40\n",
    "\n",
    ":exec xys' >>= (display . scatterGraph)"
   ]
  },
  {
   "cell_type": "markdown",
   "id": "ce4c6b0f",
   "metadata": {},
   "source": [
    "Scatter graph for small amount of fixed data  (works):"
   ]
  },
  {
   "cell_type": "code",
   "execution_count": 3,
   "id": "4c072d68",
   "metadata": {},
   "outputs": [
    {
     "data": {
      "application/javascript": [
       "const spec = {\"$schema\": \"https://vega.github.io/schema/vega-lite/v5.json\", \"data\": {\"values\": [{\"x\": 1.0, \"y\": 3.0}, {\"x\": 2.0, \"y\": 6.5}, {\"x\": 3.0, \"y\": 8.7}, {\"x\": 1.0, \"y\": 3.0}]}, \"description\": \"A scatterplot\", \"encoding\": {\"x\": {\"field\": \"x\", \"type\": \"quantitative\"}, \"y\": {\"field\": \"y\", \"type\": \"quantitative\"}}, \"mark\": \"point\"};\n",
       "const opt = {};\n",
       "const type = \"vega-lite\";\n",
       "const id = \"659ca6dc-b76d-4704-928c-918144d6204e\";\n",
       "\n",
       "const output_area = this;\n",
       "\n",
       "require([\"nbextensions/jupyter-vega/index\"], function(vega) {\n",
       "  const target = document.createElement(\"div\");\n",
       "  target.id = id;\n",
       "  target.className = \"vega-embed\";\n",
       "\n",
       "  const style = document.createElement(\"style\");\n",
       "  style.textContent = [\n",
       "    \".vega-embed .error p {\",\n",
       "    \"  color: firebrick;\",\n",
       "    \"  font-size: 14px;\",\n",
       "    \"}\",\n",
       "  ].join(\"\\\\n\");\n",
       "\n",
       "  // element is a jQuery wrapped DOM element inside the output area\n",
       "  // see http://ipython.readthedocs.io/en/stable/api/generated/\\\n",
       "  // IPython.display.html#IPython.display.Javascript.__init__\n",
       "  element[0].appendChild(target);\n",
       "  element[0].appendChild(style);\n",
       "\n",
       "  vega.render(\"#\" + id, spec, type, opt, output_area);\n",
       "}, function (err) {\n",
       "  if (err.requireType !== \"scripterror\") {\n",
       "    throw(err);\n",
       "  }\n",
       "});\n"
      ]
     },
     "metadata": {
      "jupyter-vega": "#659ca6dc-b76d-4704-928c-918144d6204e"
     },
     "output_type": "display_data"
    },
    {
     "data": {
      "image/png": "[encoded data removed]"
     },
     "metadata": {
      "jupyter-vega": "#659ca6dc-b76d-4704-928c-918144d6204e"
     },
     "output_type": "display_data"
    }
   ],
   "source": [
    ":let fixed_xys : List (Double, Double)\n",
    ":let fixed_xys = [(1, 3), (2, 6.5), (3, 8.7),(1, 3)]\n",
    "\n",
    ":exec display $ scatterGraph fixed_xys"
   ]
  },
  {
   "cell_type": "markdown",
   "id": "6be7ed37",
   "metadata": {},
   "source": [
    "Scatter graph for larger amount of fixed data (doesn't work):"
   ]
  },
  {
   "cell_type": "code",
   "execution_count": 4,
   "id": "7438b9d2",
   "metadata": {},
   "outputs": [
    {
     "name": "stdout",
     "output_type": "stream",
     "text": []
    }
   ],
   "source": [
    ":let fixed_xys' : List (Double, Double)\n",
    ":let fixed_xys' = [(0.0, -2.076804487512378), (1.0, 2.5441402646594917), (2.0, 5.497322494334665), (3.0, 7.672042461462318), (4.0, 11.27219388351949), (5.0, 15.467656254427924), (6.0, 18.4463197581769), (7.0, 22.597557319694005), (8.0, 24.687373041927145), (9.0, 27.241721242349794), (10.0, 29.70506656349178), (11.0, 33.21506377810645), (12.0, 36.698870258398514), (13.0, 38.675160881658), (14.0, 42.46724132846525), (15.0, 46.43868789742879), (16.0, 47.513434773073826), (17.0, 52.27645718490567), (18.0, 54.27232580052586), (19.0, 56.131549668225254), (20.0, 60.401211259265054), (21.0, 62.96058839913061), (22.0, 65.64252826777437), (23.0, 69.20541350999031), (24.0, 72.97314642632116), (25.0, 73.88674067013349), (26.0, 79.45898652782864), (27.0, 79.95318572788617), (28.0, 85.43635020798196), (29.0, 85.50836943928181), (30.0, 90.29578808822562)]\n",
    "\n",
    ":exec display $ scatterGraph fixed_xys'"
   ]
  },
  {
   "cell_type": "markdown",
   "id": "0387bcfc",
   "metadata": {},
   "source": [
    "Printing out a small amount of data (works):"
   ]
  },
  {
   "cell_type": "code",
   "execution_count": 1,
   "id": "de829de4",
   "metadata": {},
   "outputs": [
    {
     "name": "stdout",
     "output_type": "stream",
     "text": [
      "[8, 9, 0, 1, 2, 3, 4, 5, 6, 7, 8, 9]\r\n"
     ]
    }
   ],
   "source": [
    ":exec putStrLn $ show ([8,9,0,1,2,3,4,5,6,7,8,9])"
   ]
  },
  {
   "cell_type": "markdown",
   "id": "55f6c267",
   "metadata": {},
   "source": [
    "Printing out a larger amount of data (doesn't work):"
   ]
  },
  {
   "cell_type": "code",
   "execution_count": null,
   "id": "42e62088",
   "metadata": {},
   "outputs": [],
   "source": [
    ":exec putStrLn $ show $ [(0.0, -2.076804487512378), (1.0, 2.5441402646594917), (2.0, 5.497322494334665), (3.0, 7.672042461462318), (4.0, 11.27219388351949), (5.0, 15.467656254427924), (6.0, 18.4463197581769), (7.0, 22.597557319694005), (8.0, 24.687373041927145), (9.0, 27.241721242349794), (10.0, 29.70506656349178), (11.0, 33.21506377810645), (12.0, 36.698870258398514), (13.0, 38.675160881658), (14.0, 42.46724132846525), (15.0, 46.43868789742879), (16.0, 47.513434773073826), (17.0, 52.27645718490567), (18.0, 54.27232580052586), (19.0, 56.131549668225254), (20.0, 60.401211259265054), (21.0, 62.96058839913061), (22.0, 65.64252826777437), (23.0, 69.20541350999031), (24.0, 72.97314642632116), (25.0, 73.88674067013349), (26.0, 79.45898652782864), (27.0, 79.95318572788617), (28.0, 85.43635020798196), (29.0, 85.50836943928181), (30.0, 90.29578808822562), (31.0, 94.74075059887302), (32.0, 94.77893982312928), (33.0, 98.69422222866146), (34.0, 101.54557493671045), (35.0, 104.4940484468459), (36.0, 108.06810612753551), (37.0, 110.06375674279099), (38.0, 113.69275121826996), (39.0, 115.72375298668261), (40.0, 119.40650218579837), (41.0, 123.24484444753831), (42.0, 127.49305730985435), (43.0, 129.38107422156918), (44.0, 131.8904733197814), (45.0, 135.60806456987928), (46.0, 139.08221744966434), (47.0, 143.17237967448938), (48.0, 143.49578064867083), (49.0, 147.8422089188334), (50.0, 150.0964728986544), (51.0, 152.20522815242973), (52.0, 156.8302318947394), (53.0, 159.760833322963), (54.0, 163.4386083466831), (55.0, 165.06385709582096), (56.0, 166.9455570072041), (57.0, 172.1759098365862), (58.0, 173.19568618689615), (59.0, 175.23966284285126), (60.0, 179.9364763202962), (61.0, 182.65319829352268), (62.0, 186.23332380743472), (63.0, 189.920935848645), (64.0, 192.94431827636396), (65.0, 193.71705916549607), (66.0, 196.31041964906854), (67.0, 199.2105307540337), (68.0, 203.86332105482825), (69.0, 206.60773217760357), (70.0, 211.03182537396714), (71.0, 214.01751466099068), (72.0, 215.78794553534203), (73.0, 217.9948545972342), (74.0, 224.09219622421378), (75.0, 224.65523145293963), (76.0, 228.91386222148938), (77.0, 231.72935752151372), (78.0, 234.3801290608273), (79.0, 237.17185887301125), (80.0, 240.90495738535262), (81.0, 242.5104689405808), (82.0, 244.35157400713888), (83.0, 250.1207259503454), (84.0, 252.12129602497637), (85.0, 255.5985298734807), (86.0, 257.0041836168604), (87.0, 259.6151427999796), (88.0, 262.6670351175603), (89.0, 266.5360471905847), (90.0, 269.0986434455306), (91.0, 273.03845301874173), (92.0, 276.28621781999567), (93.0, 277.8935892371862), (94.0, 281.1865118138229), (95.0, 284.4585968206972), (96.0, 287.1672092151441), (97.0, 290.687711965826), (98.0, 293.7734912706978), (99.0, 296.89420049134606), (100.0, 298.0050220434452)]"
   ]
  },
  {
   "cell_type": "markdown",
   "id": "477c3804",
   "metadata": {},
   "source": [
    "Bar chart for small amount of fixed data (works):"
   ]
  },
  {
   "cell_type": "code",
   "execution_count": 4,
   "id": "080560ff",
   "metadata": {},
   "outputs": [
    {
     "data": {
      "application/javascript": [
       "const spec = {\"$schema\": \"https://vega.github.io/schema/vega-lite/v5.json\", \"data\": {\"values\": [{\"a\": \"A\", \"b\": 28.0}, {\"a\": \"B\", \"b\": 55.0}, {\"a\": \"C\", \"b\": 43.0}, {\"a\": \"D\", \"b\": 91.0}]}, \"description\": \"A simple bar chart with embedded data.\", \"encoding\": {\"x\": {\"axis\": {\"labelAngle\": 0.0}, \"field\": \"a\", \"type\": \"nominal\"}, \"y\": {\"field\": \"b\", \"type\": \"quantitative\"}}, \"mark\": \"bar\"};\n",
       "const opt = {};\n",
       "const type = \"vega-lite\";\n",
       "const id = \"8307375e-cc0e-4cf9-b3cf-f0adeb398ce3\";\n",
       "\n",
       "const output_area = this;\n",
       "\n",
       "require([\"nbextensions/jupyter-vega/index\"], function(vega) {\n",
       "  const target = document.createElement(\"div\");\n",
       "  target.id = id;\n",
       "  target.className = \"vega-embed\";\n",
       "\n",
       "  const style = document.createElement(\"style\");\n",
       "  style.textContent = [\n",
       "    \".vega-embed .error p {\",\n",
       "    \"  color: firebrick;\",\n",
       "    \"  font-size: 14px;\",\n",
       "    \"}\",\n",
       "  ].join(\"\\\\n\");\n",
       "\n",
       "  // element is a jQuery wrapped DOM element inside the output area\n",
       "  // see http://ipython.readthedocs.io/en/stable/api/generated/\\\n",
       "  // IPython.display.html#IPython.display.Javascript.__init__\n",
       "  element[0].appendChild(target);\n",
       "  element[0].appendChild(style);\n",
       "\n",
       "  vega.render(\"#\" + id, spec, type, opt, output_area);\n",
       "}, function (err) {\n",
       "  if (err.requireType !== \"scripterror\") {\n",
       "    throw(err);\n",
       "  }\n",
       "});\n"
      ]
     },
     "metadata": {
      "jupyter-vega": "#8307375e-cc0e-4cf9-b3cf-f0adeb398ce3"
     },
     "output_type": "display_data"
    },
    {
     "data": {
      "image/png": "[encoded data removed]"
     },
     "metadata": {
      "jupyter-vega": "#8307375e-cc0e-4cf9-b3cf-f0adeb398ce3"
     },
     "output_type": "display_data"
    }
   ],
   "source": [
    ":let description : String\n",
    ":let description = \"A simple bar chart with embedded data.\"\n",
    "\n",
    ":let vals : List (String, Double)\n",
    ":let vals = [(\"A\", 28), (\"B\", 55), (\"C\", 43), (\"D\", 91)]\n",
    "\n",
    ":exec display $ barChart description vals"
   ]
  },
  {
   "cell_type": "markdown",
   "id": "19deae92",
   "metadata": {},
   "source": [
    "Bar chart for larger amount of fixed data  (works):"
   ]
  },
  {
   "cell_type": "code",
   "execution_count": 2,
   "id": "c303f181",
   "metadata": {
    "scrolled": true
   },
   "outputs": [
    {
     "name": "stdout",
     "output_type": "stream",
     "text": []
    }
   ],
   "source": [
    ":let description' : String\n",
    ":let description' = \"A simple bar chart with embedded data.\"\n",
    "\n",
    ":let vals' : List (String, Double)\n",
    ":let vals' = [(\"A\", 28.67), (\"B\", 55), (\"C\", 43), (\"D\", 91), (\"E\", 81), (\"F\", 53), (\"G\", 19), (\"H\", 87), (\"I\", 52),  (\"J\", 19), (\"K\", 87), (\"L\", 52), (\"M\", 13), (\"N\", 2.3), (\"O\", 1.23), (\"P\", 2.334), (\"Q\", 0.77734), (\"a\", 0.3), (\"b\", 0.3), (\"c\", 0.3), (\"d\", 0.3), (\"e\", 0.3)]"
   ]
  },
  {
   "cell_type": "code",
   "execution_count": 3,
   "id": "a2183b84",
   "metadata": {},
   "outputs": [
    {
     "data": {
      "application/javascript": [
       "const spec = {\"$schema\": \"https://vega.github.io/schema/vega-lite/v5.json\", \"data\": {\"values\": [{\"a\": \"A\", \"b\": 28.67}, {\"a\": \"B\", \"b\": 55.0}, {\"a\": \"C\", \"b\": 43.0}, {\"a\": \"D\", \"b\": 91.0}, {\"a\": \"E\", \"b\": 81.0}, {\"a\": \"F\", \"b\": 53.0}, {\"a\": \"G\", \"b\": 19.0}, {\"a\": \"H\", \"b\": 87.0}, {\"a\": \"I\", \"b\": 52.0}, {\"a\": \"J\", \"b\": 19.0}, {\"a\": \"K\", \"b\": 87.0}, {\"a\": \"L\", \"b\": 52.0}, {\"a\": \"M\", \"b\": 13.0}, {\"a\": \"N\", \"b\": 2.3}, {\"a\": \"O\", \"b\": 1.23}, {\"a\": \"P\", \"b\": 2.334}, {\"a\": \"Q\", \"b\": 0.77734}, {\"a\": \"a\", \"b\": 0.3}, {\"a\": \"b\", \"b\": 0.3}, {\"a\": \"c\", \"b\": 0.3}, {\"a\": \"d\", \"b\": 0.3}, {\"a\": \"e\", \"b\": 0.3}]}, \"description\": \"A simple bar chart with embedded data.\", \"encoding\": {\"x\": {\"axis\": {\"labelAngle\": 0.0}, \"field\": \"a\", \"type\": \"nominal\"}, \"y\": {\"field\": \"b\", \"type\": \"quantitative\"}}, \"mark\": \"bar\"};\n",
       "const opt = {};\n",
       "const type = \"vega-lite\";\n",
       "const id = \"eba1eb2f-a982-449a-bd4d-126ce687628a\";\n",
       "\n",
       "const output_area = this;\n",
       "\n",
       "require([\"nbextensions/jupyter-vega/index\"], function(vega) {\n",
       "  const target = document.createElement(\"div\");\n",
       "  target.id = id;\n",
       "  target.className = \"vega-embed\";\n",
       "\n",
       "  const style = document.createElement(\"style\");\n",
       "  style.textContent = [\n",
       "    \".vega-embed .error p {\",\n",
       "    \"  color: firebrick;\",\n",
       "    \"  font-size: 14px;\",\n",
       "    \"}\",\n",
       "  ].join(\"\\\\n\");\n",
       "\n",
       "  // element is a jQuery wrapped DOM element inside the output area\n",
       "  // see http://ipython.readthedocs.io/en/stable/api/generated/\\\n",
       "  // IPython.display.html#IPython.display.Javascript.__init__\n",
       "  element[0].appendChild(target);\n",
       "  element[0].appendChild(style);\n",
       "\n",
       "  vega.render(\"#\" + id, spec, type, opt, output_area);\n",
       "}, function (err) {\n",
       "  if (err.requireType !== \"scripterror\") {\n",
       "    throw(err);\n",
       "  }\n",
       "});\n"
      ]
     },
     "metadata": {
      "jupyter-vega": "#eba1eb2f-a982-449a-bd4d-126ce687628a"
     },
     "output_type": "display_data"
    },
    {
     "data": {
      "image/png": "[encoded data removed]"
     },
     "metadata": {
      "jupyter-vega": "#eba1eb2f-a982-449a-bd4d-126ce687628a"
     },
     "output_type": "display_data"
    }
   ],
   "source": [
    ":exec display $ barChart description' vals'"
   ]
  }
 ],
 "metadata": {
  "kernelspec": {
   "display_name": "Idris 2",
   "language": "idris2",
   "name": "idris2jupyter"
  },
  "language_info": {
   "file_extension": ".idr",
   "mimetype": "text/x-idris",
   "name": "idris2"
  }
 },
 "nbformat": 4,
 "nbformat_minor": 5
}
