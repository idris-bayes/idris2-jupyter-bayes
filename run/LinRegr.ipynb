{
 "cells": [
  {
   "cell_type": "code",
   "execution_count": 1,
   "id": "ce510aab",
   "metadata": {},
   "outputs": [
    {
     "name": "stdout",
     "output_type": "stream",
     "text": [
      "Imported module Language.JSON\r\n",
      "Imported module Idris2JupyterVega.VegaLite\r\n",
      "Imported module LinRegrMB\r\n",
      "Imported module VegaPlot\r\n"
     ]
    }
   ],
   "source": [
    ":module Language.JSON\n",
    ":module Idris2JupyterVega.VegaLite\n",
    ":module LinRegrMB\n",
    ":module VegaPlot\n",
    "\n",
    "-- Scatter graph for simulating linear regression\n",
    ":let xys : IO (List (Double, Double))\n",
    ":let xys = mkLinRegrData 10"
   ]
  },
  {
   "cell_type": "code",
   "execution_count": 2,
   "id": "519bef78",
   "metadata": {},
   "outputs": [
    {
     "data": {
      "application/javascript": [
       "const spec = {\"$schema\": \"https://vega.github.io/schema/vega-lite/v5.json\", \"data\": {\"values\": [{\"x\": 0.0, \"y\": -4.316404062297472}, {\"x\": 1.0, \"y\": -2.0800870905994318}, {\"x\": 2.0, \"y\": -2.2377959017289517}, {\"x\": 3.0, \"y\": 0.3513569618798549}, {\"x\": 4.0, \"y\": -1.3148505033218145}, {\"x\": 5.0, \"y\": 1.9912003521955972}, {\"x\": 6.0, \"y\": 2.0403795984962363}, {\"x\": 7.0, \"y\": 1.9397241858425827}, {\"x\": 8.0, \"y\": 2.3160420717754695}, {\"x\": 9.0, \"y\": 3.298347250227567}, {\"x\": 10.0, \"y\": 4.269427123499157}]}, \"description\": \"A scatterplot\", \"encoding\": {\"x\": {\"field\": \"x\", \"type\": \"quantitative\"}, \"y\": {\"field\": \"y\", \"type\": \"quantitative\"}}, \"mark\": \"point\"};\n",
       "const opt = {};\n",
       "const type = \"vega-lite\";\n",
       "const id = \"76aafa6c-808b-4bf7-8b5a-2d2f9e50fbf9\";\n",
       "\n",
       "const output_area = this;\n",
       "\n",
       "require([\"nbextensions/jupyter-vega/index\"], function(vega) {\n",
       "  const target = document.createElement(\"div\");\n",
       "  target.id = id;\n",
       "  target.className = \"vega-embed\";\n",
       "\n",
       "  const style = document.createElement(\"style\");\n",
       "  style.textContent = [\n",
       "    \".vega-embed .error p {\",\n",
       "    \"  color: firebrick;\",\n",
       "    \"  font-size: 14px;\",\n",
       "    \"}\",\n",
       "  ].join(\"\\\\n\");\n",
       "\n",
       "  // element is a jQuery wrapped DOM element inside the output area\n",
       "  // see http://ipython.readthedocs.io/en/stable/api/generated/\\\n",
       "  // IPython.display.html#IPython.display.Javascript.__init__\n",
       "  element[0].appendChild(target);\n",
       "  element[0].appendChild(style);\n",
       "\n",
       "  vega.render(\"#\" + id, spec, type, opt, output_area);\n",
       "}, function (err) {\n",
       "  if (err.requireType !== \"scripterror\") {\n",
       "    throw(err);\n",
       "  }\n",
       "});\n"
      ]
     },
     "metadata": {
      "jupyter-vega": "#76aafa6c-808b-4bf7-8b5a-2d2f9e50fbf9"
     },
     "output_type": "display_data"
    },
    {
     "data": {
      "image/png": "[encoded data removed]"
     },
     "metadata": {
      "jupyter-vega": "#76aafa6c-808b-4bf7-8b5a-2d2f9e50fbf9"
     },
     "output_type": "display_data"
    }
   ],
   "source": [
    ":exec xys >>= (display . scatterGraph)"
   ]
  },
  {
   "cell_type": "code",
   "execution_count": null,
   "id": "4c072d68",
   "metadata": {},
   "outputs": [],
   "source": [
    "-- Scatter graph for fixed data\n",
    ":let fixed_xys : List (Double, Double)\n",
    ":let fixed_xys = [(1, 3), (2, 6.5), (3, 8.7)]\n",
    "\n",
    ":exec display $ scatterGraph fixed_xys"
   ]
  },
  {
   "cell_type": "code",
   "execution_count": null,
   "id": "c303f181",
   "metadata": {
    "scrolled": true
   },
   "outputs": [],
   "source": [
    "-- Bar chart for fixed data\n",
    ":let description : String\n",
    ":let description = \"A simple bar chart with embedded data.\"\n",
    "\n",
    ":let vals : List (String, Double)\n",
    ":let vals = [(\"A\", 28), (\"B\", 55), (\"C\", 43), (\"D\", 91), (\"E\", 81), (\"F\", 53), (\"G\", 19), (\"H\", 87), (\"I\", 52)]\n",
    "\n",
    ":exec display $ barChart description vals"
   ]
  }
 ],
 "metadata": {
  "kernelspec": {
   "display_name": "Idris 2",
   "language": "idris2",
   "name": "idris2jupyter"
  },
  "language_info": {
   "file_extension": ".idr",
   "mimetype": "text/x-idris",
   "name": "idris2"
  }
 },
 "nbformat": 4,
 "nbformat_minor": 5
}
