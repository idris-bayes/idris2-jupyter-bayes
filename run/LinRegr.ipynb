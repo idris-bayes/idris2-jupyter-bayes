{
 "cells": [
  {
   "cell_type": "code",
   "execution_count": 1,
   "id": "ce510aab",
   "metadata": {},
   "outputs": [
    {
     "name": "stdout",
     "output_type": "stream",
     "text": [
      "Imported module Language.JSON\r\n",
      "Imported module Control.Monad.Bayes.Interface\r\n",
      "Imported module Idris2JupyterVega.VegaLite\r\n",
      "Imported module LinRegr\r\n"
     ]
    }
   ],
   "source": [
    ":module Language.JSON\n",
    ":module Control.Monad.Bayes.Interface\n",
    ":module Idris2JupyterVega.VegaLite\n",
    ":module LinRegr\n"
   ]
  },
  {
   "cell_type": "code",
   "execution_count": 2,
   "id": "bade75b9",
   "metadata": {
    "vscode": {
     "languageId": "plaintext"
    }
   },
   "outputs": [
    {
     "name": "stdout",
     "output_type": "stream",
     "text": []
    }
   ],
   "source": [
    ":let xys : IO (List (Double, Double))\n",
    ":let xys = mkLinRegrData 100"
   ]
  },
  {
   "cell_type": "code",
   "execution_count": 3,
   "id": "e6d521cf",
   "metadata": {},
   "outputs": [
    {
     "name": "stdout",
     "output_type": "stream",
     "text": []
    }
   ],
   "source": [
    ":exec (do dat <- xys; display $ scatterGraph dat) "
   ]
  },
  {
   "cell_type": "code",
   "execution_count": 6,
   "id": "4c072d68",
   "metadata": {},
   "outputs": [
    {
     "name": "stdout",
     "output_type": "stream",
     "text": []
    }
   ],
   "source": [
    ":let fixed_xys : List (Double, Double)\n",
    ":let fixed_xys = [(0, 28), (1, 55)]"
   ]
  },
  {
   "cell_type": "code",
   "execution_count": 7,
   "id": "bad5745d",
   "metadata": {
    "scrolled": true
   },
   "outputs": [
    {
     "data": {
      "application/javascript": [
       "const spec = {\"$schema\": \"https://vega.github.io/schema/vega-lite/v5.json\", \"data\": {\"values\": [{\"a\": 0.0, \"b\": 28.0}, {\"a\": 1.0, \"b\": 55.0}]}, \"description\": \"A scatterplot\", \"encoding\": {\"x\": {\"field\": \"a\", \"type\": \"quantitative\"}, \"y\": {\"field\": \"b\", \"type\": \"quantitative\"}}, \"mark\": \"point\"};\n",
       "const opt = {};\n",
       "const type = \"vega-lite\";\n",
       "const id = \"84cd2634-a58e-47c5-a066-cbe1af090b1d\";\n",
       "\n",
       "const output_area = this;\n",
       "\n",
       "require([\"nbextensions/jupyter-vega/index\"], function(vega) {\n",
       "  const target = document.createElement(\"div\");\n",
       "  target.id = id;\n",
       "  target.className = \"vega-embed\";\n",
       "\n",
       "  const style = document.createElement(\"style\");\n",
       "  style.textContent = [\n",
       "    \".vega-embed .error p {\",\n",
       "    \"  color: firebrick;\",\n",
       "    \"  font-size: 14px;\",\n",
       "    \"}\",\n",
       "  ].join(\"\\\\n\");\n",
       "\n",
       "  // element is a jQuery wrapped DOM element inside the output area\n",
       "  // see http://ipython.readthedocs.io/en/stable/api/generated/\\\n",
       "  // IPython.display.html#IPython.display.Javascript.__init__\n",
       "  element[0].appendChild(target);\n",
       "  element[0].appendChild(style);\n",
       "\n",
       "  vega.render(\"#\" + id, spec, type, opt, output_area);\n",
       "}, function (err) {\n",
       "  if (err.requireType !== \"scripterror\") {\n",
       "    throw(err);\n",
       "  }\n",
       "});\n"
      ]
     },
     "metadata": {
      "jupyter-vega": "#84cd2634-a58e-47c5-a066-cbe1af090b1d"
     },
     "output_type": "display_data"
    },
    {
     "data": {
      "image/png": "[encoded data removed]"
     },
     "metadata": {
      "jupyter-vega": "#84cd2634-a58e-47c5-a066-cbe1af090b1d"
     },
     "output_type": "display_data"
    }
   ],
   "source": [
    ":exec display $ scatterGraph fixed_xys"
   ]
  },
  {
   "cell_type": "code",
   "execution_count": 11,
   "id": "c303f181",
   "metadata": {
    "scrolled": true
   },
   "outputs": [
    {
     "name": "stdout",
     "output_type": "stream",
     "text": [
      "Imported module Idris2JupyterVega.VegaLite\r\n",
      "Imported module Language.JSON\r\n"
     ]
    }
   ],
   "source": [
    ":module Idris2JupyterVega.VegaLite\n",
    ":module Language.JSON\n",
    "\n",
    ":let description : String\n",
    ":let description = \"A simple bar chart with embedded data.\"\n",
    "\n",
    ":let vals : List (String, Double)\n",
    ":let vals = [(\"A\", 28), (\"B\", 55), (\"C\", 43), (\"D\", 91), (\"E\", 81), (\"F\", 53), (\"G\", 19), (\"H\", 87), (\"I\", 52)]"
   ]
  },
  {
   "cell_type": "code",
   "execution_count": 12,
   "id": "031f9cd7",
   "metadata": {},
   "outputs": [
    {
     "data": {
      "application/javascript": [
       "const spec = {\"$schema\": \"https://vega.github.io/schema/vega-lite/v5.json\", \"data\": {\"values\": [{\"a\": \"A\", \"b\": 28.0}, {\"a\": \"B\", \"b\": 55.0}, {\"a\": \"C\", \"b\": 43.0}, {\"a\": \"D\", \"b\": 91.0}, {\"a\": \"E\", \"b\": 81.0}, {\"a\": \"F\", \"b\": 53.0}, {\"a\": \"G\", \"b\": 19.0}, {\"a\": \"H\", \"b\": 87.0}, {\"a\": \"I\", \"b\": 52.0}]}, \"description\": \"A simple bar chart with embedded data.\", \"encoding\": {\"x\": {\"axis\": {\"labelAngle\": 0.0}, \"field\": \"a\", \"type\": \"nominal\"}, \"y\": {\"field\": \"b\", \"type\": \"quantitative\"}}, \"mark\": \"bar\"};\n",
       "const opt = {};\n",
       "const type = \"vega-lite\";\n",
       "const id = \"12004fb6-f8e3-40bb-bdfc-d435447c02b7\";\n",
       "\n",
       "const output_area = this;\n",
       "\n",
       "require([\"nbextensions/jupyter-vega/index\"], function(vega) {\n",
       "  const target = document.createElement(\"div\");\n",
       "  target.id = id;\n",
       "  target.className = \"vega-embed\";\n",
       "\n",
       "  const style = document.createElement(\"style\");\n",
       "  style.textContent = [\n",
       "    \".vega-embed .error p {\",\n",
       "    \"  color: firebrick;\",\n",
       "    \"  font-size: 14px;\",\n",
       "    \"}\",\n",
       "  ].join(\"\\\\n\");\n",
       "\n",
       "  // element is a jQuery wrapped DOM element inside the output area\n",
       "  // see http://ipython.readthedocs.io/en/stable/api/generated/\\\n",
       "  // IPython.display.html#IPython.display.Javascript.__init__\n",
       "  element[0].appendChild(target);\n",
       "  element[0].appendChild(style);\n",
       "\n",
       "  vega.render(\"#\" + id, spec, type, opt, output_area);\n",
       "}, function (err) {\n",
       "  if (err.requireType !== \"scripterror\") {\n",
       "    throw(err);\n",
       "  }\n",
       "});\n"
      ]
     },
     "metadata": {
      "jupyter-vega": "#12004fb6-f8e3-40bb-bdfc-d435447c02b7"
     },
     "output_type": "display_data"
    },
    {
     "data": {
      "image/png": "[encoded data removed]"
     },
     "metadata": {
      "jupyter-vega": "#12004fb6-f8e3-40bb-bdfc-d435447c02b7"
     },
     "output_type": "display_data"
    }
   ],
   "source": [
    ":exec display $ barChart description vals"
   ]
  },
  {
   "cell_type": "code",
   "execution_count": null,
   "id": "cff0d8f5",
   "metadata": {},
   "outputs": [],
   "source": []
  }
 ],
 "metadata": {
  "kernelspec": {
   "display_name": "Idris 2",
   "language": "idris2",
   "name": "idris2jupyter"
  },
  "language_info": {
   "file_extension": ".idr",
   "mimetype": "text/x-idris",
   "name": "idris2"
  }
 },
 "nbformat": 4,
 "nbformat_minor": 5
}
